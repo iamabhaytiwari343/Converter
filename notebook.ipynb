{
 "cells": [
  {
   "cell_type": "code",
   "execution_count": null,
   "metadata": {},
   "outputs": [],
   "source": [
    "from PIL import Image\n",
    "def resize_image(image_path, output_path, width, height):\n",
    "    try:\n",
    "        with Image.open(image_path) as img:\n",
    "            # Resize the image using the LANCZOS filter\n",
    "            resized_img = img.resize((width, height), Image.Resampling.LANCZOS)\n",
    "            # Save the resized image\n",
    "            resized_img.save(output_path, optimize=True, quality=85)\n",
    "            print(f\"Image resized and saved to {output_path}\")\n",
    "    except Exception as e:\n",
    "        print(f\"An error occurred: {e}\")\n"
   ]
  },
  {
   "cell_type": "code",
   "execution_count": null,
   "metadata": {},
   "outputs": [],
   "source": [
    "# Code to use the Function\n",
    "# input_path = \"path/to/input/image.jpg\"\n",
    "# output_path = \"path/to/output/image_resized.jpg\"\n",
    "# target_width = 800\n",
    "# target_height = 600\n",
    "\n",
    "# resize_image(input_path, output_path, target_width, target_height)\n"
   ]
  }
 ],
 "metadata": {
  "kernelspec": {
   "display_name": "Python 3",
   "language": "python",
   "name": "python3"
  },
  "language_info": {
   "name": "python",
   "version": "3.8.10"
  }
 },
 "nbformat": 4,
 "nbformat_minor": 2
}
